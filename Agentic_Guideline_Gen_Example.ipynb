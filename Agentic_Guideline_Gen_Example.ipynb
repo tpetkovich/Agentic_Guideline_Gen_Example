{
 "cells": [
  {
   "cell_type": "markdown",
   "id": "e5de8763",
   "metadata": {},
   "source": [
    "# Agentic summarization example"
   ]
  },
  {
   "cell_type": "code",
   "execution_count": 1,
   "id": "d012497c",
   "metadata": {},
   "outputs": [],
   "source": [
    "import os\n",
    "from IPython.display import display, HTML, Markdown\n",
    "from dotenv import load_dotenv\n",
    "from pathlib import Path\n",
    "import re\n",
    "import base64\n",
    "import tiktoken\n",
    "import google.generativeai as genai\n",
    "from openai import OpenAI"
   ]
  },
  {
   "cell_type": "code",
   "execution_count": 2,
   "id": "aca0ff16",
   "metadata": {},
   "outputs": [
    {
     "data": {
      "text/plain": [
       "True"
      ]
     },
     "execution_count": 2,
     "metadata": {},
     "output_type": "execute_result"
    }
   ],
   "source": [
    "load_dotenv()"
   ]
  },
  {
   "cell_type": "code",
   "execution_count": 3,
   "id": "fa7922ac",
   "metadata": {},
   "outputs": [],
   "source": [
    "openai_client = OpenAI()\n",
    "genai.configure(api_key=os.environ.get(\"GOOGLE_API_KEY\"))"
   ]
  },
  {
   "cell_type": "code",
   "execution_count": 4,
   "id": "411c4eaa",
   "metadata": {},
   "outputs": [],
   "source": [
    "THEME = \"neurological/neurogenic heterotopic ossification\"\n",
    "PDF_PATH = \"articles\""
   ]
  },
  {
   "cell_type": "code",
   "execution_count": 5,
   "id": "b116e8b0",
   "metadata": {},
   "outputs": [],
   "source": [
    "supervisor_prompt = f\"\"\"\n",
    "You are a medical research assistant. The first input you will receive will be a medical disease, condition or/and a more generic topic on a class of medical disorders.\n",
    "Your task will be to generate a detailed, professional clinical guideline and best practice recommendation for diagnosing and treating patients with the medical disease or condition in a Hungarian rehabilitation center, tailored towards guiding PM&R specialists responsible for inpatient care at a highly professional neurorehabilitation department. The guideline is not meant to be a policy recommendation, advising policy makers how to organize the medical processes, instead it should focus on the individual physicians work and the medical professional and scientific aspect, while also providing clear clinical algorithms on dealing with a specific medical disease or condition. /\n",
    "\n",
    "The guideline should be very detailed and having all the necessary information for an attending PM&R physician how to manage patients with the mentioned conditions. It should be extremely specific, with detailed instructions, comprehensive process descriptions detailing key decision points on how to deal with patients suffering from the specified disease, condition or disorder.\n",
    "\n",
    "You will have access to a number of relevant scientific papers, reviews, existing guidelines and an LLM agent that is responsible for extracting important information for you from the PDF documents based on your guidance on what parts and what kind of information it should focus on, and will return to you all the extracted details for generating the guidelines and augmenting your knowledge on the topic with the latest research and up-to-date existing knowledge.\n",
    "\n",
    "First provide brief, concise instructions for your LLM agent for processing the external documentations, assisting it to focus on the relevant details. Put the instructions within <instructions></instructions> tags. You do not need to write the guideline yet, instead wait for the results from your LLM agents.\n",
    "\n",
    "The relevant medical disease, condition, disorder for which you need to propose the guideline: {THEME}\n",
    "\"\"\""
   ]
  },
  {
   "cell_type": "code",
   "execution_count": 6,
   "id": "02b7d37b",
   "metadata": {},
   "outputs": [],
   "source": [
    "extractor_prompt = \"\"\"\n",
    "You are a medical research assistant. You will receive some scientific article, review or medical recommendation in PDF format and the detailed instruction on what kind of relevant medical information the research supervisor is interested in for the project. Process the document according to the instructions, while providing longer explanation on novel ideas and knowledge not well known previously within the context of the research.\n",
    "\n",
    "Do not forget to add the title of the processed article in the header part.\n",
    "\n",
    "# Detailed instructions:\n",
    "\n",
    "{}\n",
    "\"\"\""
   ]
  },
  {
   "cell_type": "code",
   "execution_count": 7,
   "id": "460b11f0",
   "metadata": {},
   "outputs": [],
   "source": [
    "writer_prompt = \"\"\"\n",
    "You are a medical research assistant. The first input you will receive will be a medical disease, condition or/and a more generic topic on a class of medical disorders.\n",
    "Your task will be to generate a detailed, professional clinical guideline and best practice recommendation for diagnosing and treating patients with the medical disease or condition in a Hungarian rehabilitation center, tailored towards guiding PM&R specialists responsible for inpatient care at a highly professional neurorehabilitation department. The guideline is not meant to be a policy recommendation, advising policy makers how to organize the medical processes, instead it should focus on the individual physicians work and the medical professional and scientific aspect, while also providing clear clinical algorithms on dealing with a specific medical disease or condition. /\n",
    "\n",
    "The guideline should be very detailed and having all the necessary information for an attending PM&R physician how to manage patients with the mentioned conditions. It should be extremely specific, with detailed instructions, comprehensive process descriptions detailing key decision points on how to deal with patients suffering from the specified disease, condition or disorder.\n",
    "\n",
    "You will receive a number of extracted notes and documents below within <documents></documents> tags from fresh research papers, reviews and existing guidelines, which will provide up-to-date research for you to extend your knowledge. Carefully review these documents, and use all additional facts, novel findings and recommendations to extend the final guidelines will all the best available knowledge to generate a long writeup in markdown format, which provides all the latest facts, research and details extracted from the documents as well as your latest and best knowledge available to you to propose a comprehensive guideline.\n",
    "\n",
    "The relevant medical disease, condition, disorder for which you need to propose the guideline: {}\n",
    "\n",
    "# External knowledge\n",
    "<documents>\n",
    "{}\n",
    "</documents>\n",
    "\"\"\""
   ]
  },
  {
   "cell_type": "markdown",
   "id": "3b6aa733",
   "metadata": {},
   "source": [
    "### Supervisor agent"
   ]
  },
  {
   "cell_type": "code",
   "execution_count": 8,
   "id": "e5922210",
   "metadata": {
    "scrolled": true
   },
   "outputs": [],
   "source": [
    "response = openai_client.responses.create(\n",
    "  model=\"o1\",\n",
    "  input=supervisor_prompt\n",
    ")"
   ]
  },
  {
   "cell_type": "code",
   "execution_count": 9,
   "id": "ddc57471",
   "metadata": {},
   "outputs": [],
   "source": [
    "pattern = r\"<instructions>(.*?)</instructions>\"\n",
    "extracted_instructions = re.search(pattern, response.output_text, re.DOTALL).group(1)"
   ]
  },
  {
   "cell_type": "code",
   "execution_count": 10,
   "id": "181cc491",
   "metadata": {
    "scrolled": true
   },
   "outputs": [
    {
     "data": {
      "text/markdown": [
       "\n",
       "1. Focus on the pathophysiology, epidemiology, and risk factors of neurological (neurogenic) heterotopic ossification (HO) that appear in the documents.  \n",
       "2. Extract information on early recognition and screening protocols, including clinical assessments, biomarkers, and imaging modalities for diagnosing neurogenic HO.  \n",
       "3. Identify and summarize the recommended medical management strategies (e.g., NSAIDs, bisphosphonates, etc.) and their evidence-based rationale.  \n",
       "4. Gather details on recommended rehabilitation interventions, such as physical therapy approaches, spasticity management, positioning, and splinting.  \n",
       "5. Locate any surgical guidelines or indications for surgical intervention in neurogenic HO, including postoperative rehabilitation considerations, if available.  \n",
       "6. Collect data on prognostic factors, functional outcomes, and long-term follow-up recommendations within inpatient neurorehabilitation settings.  \n",
       "7. Extract any relevant clinical algorithms or step-by-step approaches outlined in the sources for diagnosing and managing neurogenic HO, including patient and family education.  \n",
       "8. Re-check the documents for novel or emerging therapies, recent review articles, or updated guidelines on neurogenic HO.  \n",
       "9. Prioritize any content that targets PM&R specialists working in a rehabilitation center in Hungary, focusing on practical, inpatient care considerations.  \n"
      ],
      "text/plain": [
       "<IPython.core.display.Markdown object>"
      ]
     },
     "execution_count": 10,
     "metadata": {},
     "output_type": "execute_result"
    }
   ],
   "source": [
    "Markdown(extracted_instructions)"
   ]
  },
  {
   "cell_type": "markdown",
   "id": "721d30b7",
   "metadata": {},
   "source": [
    "### Extractor agents"
   ]
  },
  {
   "cell_type": "code",
   "execution_count": 11,
   "id": "3ab1d01f",
   "metadata": {},
   "outputs": [],
   "source": [
    "model_extracting = genai.GenerativeModel('gemini-2.0-flash-exp')"
   ]
  },
  {
   "cell_type": "code",
   "execution_count": 12,
   "id": "5e39c816",
   "metadata": {},
   "outputs": [
    {
     "name": "stdout",
     "output_type": "stream",
     "text": [
      "articles\\06SAKELLARIOU.pdf\n",
      "articles\\1-s2.0-S1877056817303274-main.pdf\n",
      "articles\\1-s2.0-S1877065716300306-main.pdf\n",
      "articles\\1-s2.0-S2214031X17300396-main.pdf\n",
      "articles\\121-1591873437.pdf\n",
      "articles\\1440-1681_13025 -- b7f720263ac5067ece2bdbf1d803cc3a.pdf\n",
      "articles\\2015-12-32-neuro-gil.pdf\n",
      "articles\\20210527-25446-1j9m9lr.pdf\n",
      "articles\\20240724-319105-r311o6.pdf\n",
      "articles\\20241031-374610-dxij7y.pdf\n",
      "articles\\3101309.pdf\n",
      "articles\\569165-4913911-1-PB.pdf\n",
      "articles\\62D03BA931D2E26A161F39185BFABE24.pdf\n",
      "articles\\arm-40-1135.pdf\n",
      "articles\\a_23_year_old_male_patient_with_history_of_severe.17.pdf\n",
      "articles\\bonejointres-02-51.pdf\n",
      "articles\\bot_0000000000000666 -- d0f459fbb296677ae0f6673b41671d30.pdf\n",
      "articles\\D7caAsWu.pdf\n",
      "articles\\ERABI-Module-11-Heterotopic-Ossification-V14.pdf\n",
      "articles\\fncel-16-842090.pdf\n",
      "articles\\gangloff-et-al-1993-neurogenic-heterotopic-ossification.pdf\n",
      "articles\\Guidelines-SCI-Heterotopic-Ossification-2024.pdf\n",
      "articles\\jbm4_10172 -- fe977f7ad8aae09f6f13bc16e5966701.pdf\n",
      "articles\\j_clineuro_2010_08_012 -- e9d19a31c0bb2ad6a2598943d659a5af.pdf\n",
      "articles\\j_radonc_2014_08_025 -- 9c05244fd3b84c9bcb095c372637ea59.pdf\n",
      "articles\\j_radonc_2015_05_022 -- 8d5ba795c87ad853dc7f618176ad8ed4.pdf\n",
      "articles\\j_rehab_2016_03_009 -- 7649db4cb7e3ad470172aff2968be54a.pdf\n",
      "articles\\neurogenic_heterotopic_ossification___a_diagnostic.8.pdf\n",
      "articles\\Neurological heterotopic ossification_ Current understanding and future directions (Bone) (2017).pdf\n",
      "articles\\nihms1981.pdf\n",
      "articles\\PEER_stage2_10.1002_jcu.20742.pdf\n",
      "articles\\PIIS0720048X24001827.pdf\n",
      "articles\\QBOznfkF.pdf\n",
      "articles\\R33Y2021N04A0527.pdf\n",
      "articles\\s41413-020-00119-9.pdf\n",
      "articles\\sc19938.pdf\n",
      "articles\\sc2009175.pdf\n",
      "articles\\sc2010133.pdf\n",
      "articles\\sc_2009_175 -- 49d0f43268ac77568eb61efd6f435a7f.pdf\n",
      "articles\\sc_2010_133 -- 9dd45f76a2ab9577d9eab9d1ac3df4ea.pdf\n"
     ]
    }
   ],
   "source": [
    "documents = []\n",
    "\n",
    "for f in Path(PDF_PATH).glob('**/*'):\n",
    "\n",
    "    with open(f, \"rb\") as doc_file:\n",
    "        doc_data = base64.standard_b64encode(doc_file.read()).decode(\"utf-8\")\n",
    "\n",
    "    print(f)\n",
    "    response = model_extracting.generate_content([{'mime_type': 'application/pdf', 'data': doc_data}, extractor_prompt.format(extracted_instructions)])\n",
    "    documents.append(f'<document>\\n{response.text}\\n</document>')"
   ]
  },
  {
   "cell_type": "markdown",
   "id": "9472cc3a",
   "metadata": {},
   "source": [
    "### Writer agent"
   ]
  },
  {
   "cell_type": "code",
   "execution_count": 13,
   "id": "3e1e5dab",
   "metadata": {},
   "outputs": [],
   "source": [
    "joined_context = '\\n'.join(documents)"
   ]
  },
  {
   "cell_type": "code",
   "execution_count": 16,
   "id": "ec063b6d",
   "metadata": {},
   "outputs": [
    {
     "data": {
      "text/plain": [
       "61049"
      ]
     },
     "execution_count": 16,
     "metadata": {},
     "output_type": "execute_result"
    }
   ],
   "source": [
    "# Checking the size of the context\n",
    "enc = tiktoken.encoding_for_model(\"o1\")\n",
    "len(enc.encode(joined_context))"
   ]
  },
  {
   "cell_type": "code",
   "execution_count": 17,
   "id": "5ce82d93",
   "metadata": {},
   "outputs": [],
   "source": [
    "model_writer = genai.GenerativeModel('gemini-2.0-flash-thinking-exp')"
   ]
  },
  {
   "cell_type": "code",
   "execution_count": 18,
   "id": "f75c70a4",
   "metadata": {},
   "outputs": [],
   "source": [
    "response = model_writer.generate_content(writer_prompt.format(THEME,joined_context))"
   ]
  },
  {
   "cell_type": "code",
   "execution_count": 19,
   "id": "5895395b",
   "metadata": {
    "scrolled": false
   },
   "outputs": [
    {
     "data": {
      "text/markdown": [
       "# Clinical Guideline and Best Practice Recommendation for Neurological/Neurogenic Heterotopic Ossification in Hungarian Neurorehabilitation Centers\n",
       "\n",
       "**For PM&R Specialists in Inpatient Neurorehabilitation Departments**\n",
       "\n",
       "**1. Introduction: Understanding Neurogenic Heterotopic Ossification (NHO)**\n",
       "\n",
       "Neurogenic Heterotopic Ossification (NHO) is a debilitating condition characterized by the abnormal formation of mature lamellar bone within extraskeletal soft tissues, typically surrounding joints. It is a frequent and significant complication following neurological injuries, particularly traumatic brain injury (TBI), spinal cord injury (SCI), stroke, and other central nervous system (CNS) insults. NHO can severely limit joint range of motion, cause pain, and impede functional recovery, posing a substantial challenge in neurorehabilitation settings.\n",
       "\n",
       "This clinical guideline aims to provide a detailed, evidence-based framework for PM&R specialists in Hungarian rehabilitation centers to effectively diagnose, manage, and treat patients with NHO. It synthesizes the latest research findings and best practices to guide clinical decision-making in inpatient neurorehabilitation, focusing on the practical aspects of physician work and the medical-scientific dimensions of patient care. This guideline is intended to support individual physician practice and does not constitute a policy recommendation for healthcare system organization.\n",
       "\n",
       "**2. Pathophysiology, Epidemiology, and Risk Factors of Neurogenic Heterotopic Ossification**\n",
       "\n",
       "**2.1. Pathophysiology:**\n",
       "\n",
       "NHO pathogenesis is complex and not fully elucidated, involving a combination of systemic and local factors initiated by CNS injury and often exacerbated by peripheral tissue trauma. The process generally follows these steps:\n",
       "\n",
       "*   **Initiating Event:** CNS injury (TBI, SCI, stroke) and peripheral tissue trauma (muscle injury, fractures, microtrauma from spasticity and mobilization) trigger an inflammatory cascade.\n",
       "*   **Inflammatory Phase:** Damage to the CNS disrupts the blood-brain barrier (BBB) and blood-spinal cord barrier (BSB), releasing inflammatory mediators (cytokines, growth factors, neuropeptides like Substance P, Oncostatin M, CGRP), and osteoinductive factors into systemic circulation. Local inflammation at the periarticular soft tissues is also crucial, involving macrophages, lymphocytes, and mast cells.\n",
       "*   **Mesenchymal Stem Cell (MSC) Involvement:** Osteoprogenitor cells (OPCs), often originating from muscle tissue, are stimulated to proliferate and differentiate into chondrocytes and osteoblasts via complex signaling pathways, including Bone Morphogenetic Proteins (BMPs), Wnt/β-catenin, Hedgehog (HH), and mTOR pathways. Hypoxia within the injured tissue, often induced by immobilization and spasticity, plays a critical role by stabilizing HIF-1α, further promoting osteogenesis and angiogenesis.\n",
       "*   **Endochondral Ossification:** NHO follows a process similar to endochondral ossification, involving mesenchymal condensation, chondrogenesis, cartilage hypertrophy, vascular invasion, and osteogenesis, ultimately leading to the formation of mature lamellar bone in ectopic locations.\n",
       "*   **Neuro-immunological Factors:** Autonomic dysregulation, microvascular alterations, and altered neural signaling contribute to creating a permissive environment for osteogenesis.\n",
       "\n",
       "**2.2. Epidemiology:**\n",
       "\n",
       "*   **Incidence post-SCI:** 10-53% (clinically significant NHO: 20-30%, ankylosis: 3-8%)\n",
       "*   **Incidence post-TBI:** 4-23% (clinically relevant joint immobility: ~10%)\n",
       "*   **Incidence in Neurological Rehabilitation (non-traumatic):** ~4% (may be underestimated)\n",
       "*   **Location:** Hip (most common, 70-97% in SCI), knee, elbow, shoulder. Often below the level of SCI or near large joints after TBI.\n",
       "*   **Timing:** Typically develops within 1-6 months post-injury, with early signs as soon as 2-3 weeks.\n",
       "\n",
       "**2.3. Risk Factors:**\n",
       "\n",
       "*   **Neurological Injury Severity:** Severe TBI (GCS 3-8), complete SCI (AIS A), prolonged coma.\n",
       "*   **Polytrauma:** Concomitant CNS and peripheral musculoskeletal injuries, especially fractures (femur, acetabular, elbow). Blast-related TBI is a particularly high-risk injury pattern.\n",
       "*   **Immobilization:** Prolonged bed rest, limited joint mobility.\n",
       "*   **Spasticity/Hypertonia:** Marked muscle spasticity is a significant independent risk factor, potentially causing muscle hypoxia and tears.\n",
       "*   **Infections:** Urinary tract infections, pneumonia, pressure ulcers, systemic infections.\n",
       "*   **Other Medical Complications:** Deep vein thrombosis (DVT), pressure ulcers.\n",
       "*   **Patient Demographics:** Male sex, young age (20-30 years), older age (>30 years in some SCI studies), potentially Black race.\n",
       "*   **Genetic Predisposition:** Possible associations with HLA-B18 and HLA-B27 (inconsistent findings), HLA B27 gene presence, genetic disorders like Fibrodysplasia Ossificans Progressiva (FOP).\n",
       "*   **Prolonged Mechanical Ventilation:** Artificial ventilation, tracheostomy.\n",
       "*   **Elevated Biomarkers:** Increased serum alkaline phosphatase (ALP), serum inflammatory markers (CRP, ESR, IL-6, TNF-α), urinary prostaglandin E2.\n",
       "*   **Hormonal Factors:** Pituitary dysfunction post-TBI, altered growth hormone response, leptin levels.\n",
       "*   **Medications:** Use of antidepressants, baclofen at admission to rehabilitation.\n",
       "*   **Lifestyle Factors:** Tobacco smoking.\n",
       "*   **Previous HO:** History of HO.\n",
       "\n",
       "**3. Early Recognition and Screening Protocols**\n",
       "\n",
       "**3.1. Clinical Assessment:**\n",
       "\n",
       "*   **Be Vigilant:** In all patients with neurological injuries, especially those with risk factors, maintain a high index of suspicion for NHO.\n",
       "*   **Regular Monitoring:** Regularly assess joints, particularly hips, knees, elbows, and shoulders, for early signs.\n",
       "*   **Key Clinical Signs and Symptoms (appear 2-12 weeks post-injury, but can be earlier):**\n",
       "    *   **Pain:** Localized joint or muscle pain, sometimes out of proportion to injury, may be less prominent in SCI patients with sensory deficits.\n",
       "    *   **Decreased Range of Motion (ROM):** Progressive loss of joint mobility, stiffness, and a discrete endpoint with pain during passive movement.\n",
       "    *   **Swelling:** Peri-articular swelling, firm mass, or edema.\n",
       "    *   **Warmth and Erythema:** Localized warmth, redness, and inflammation around the joint.\n",
       "    *   **Systemic Signs:** Low-grade fever, elevated inflammatory markers (CRP, ESR).\n",
       "    *   **Increased Spasticity:** Worsening spasticity in the affected limb.\n",
       "    *   **Functional Limitation:** Difficulty with transfers, mobility, and activities of daily living.\n",
       "*   **Differential Diagnosis:** Rule out other conditions with similar presentations: deep venous thrombosis (DVT), septic arthritis, cellulitis, osteomyelitis, hematoma, fracture, tumor, musculoskeletal injuries, or inflammatory arthritis.\n",
       "\n",
       "**3.2. Biomarker Screening (Consider as adjunct, not definitive):**\n",
       "\n",
       "*   **Serum Alkaline Phosphatase (ALP):**  Measure serum ALP levels in high-risk patients. Elevated levels (2-3.5 times normal, peaking around 10 weeks post-injury) can support clinical suspicion, especially when combined with other signs. However, ALP is non-specific and can be elevated due to fracture healing or adolescent growth.\n",
       "*   **Erythrocyte Sedimentation Rate (ESR) and C-Reactive Protein (CRP):**  Elevated ESR and CRP indicate inflammation and may be useful in the acute inflammatory phase, though also non-specific. Monitor CRP for correlation with inflammatory activity of HO.\n",
       "*   **Urinary Prostaglandin E2 (PGE2):** Consider 24-hour urinary PGE2 excretion in patients with suspicious symptoms for early diagnosis. Elevated levels may indicate early HO formation.\n",
       "*   **Creatine Kinase (CPK):** May be elevated in HO patients, suggesting muscle involvement.\n",
       "*   **Emerging Biomarkers (Research context):** IL-6, IL-10, MCP-1, MMP-9, Substance P, Oncostatin M (OSM).\n",
       "\n",
       "**3.3. Imaging Modalities (Step-wise Approach):**\n",
       "\n",
       "*   **Step 1: Plain Radiography (X-ray):**\n",
       "    *   Initial imaging modality, readily available and cost-effective.\n",
       "    *   May be normal in early HO (first 3-6 weeks). Useful for detecting mature HO and monitoring progression.\n",
       "*   **Step 2: Bedside Ultrasonography (US):**\n",
       "    *   Consider as a first-line imaging tool, especially in resource-limited settings.\n",
       "    *   Sensitive for detecting early soft tissue lesions, calcifications, and differentiating HO from other conditions (DVT, infection, hematoma).\n",
       "    *   Bedside application, repeatable, inexpensive, no radiation.\n",
       "    *   Power Doppler Ultrasound (PDUS) can assess vascularity.\n",
       "*   **Step 3: Three-Phase 99m-Technetium Bone Scan:**\n",
       "    *   Gold standard for early detection, highly sensitive (detects changes 2-6 weeks before radiographs).\n",
       "    *   Useful for confirming early HO activity.\n",
       "    *   Lower specificity, may not differentiate NHO from other inflammatory processes. Consider if clinical suspicion is high and US is inconclusive.\n",
       "*   **Step 4: Computed Tomography (CT) Scan:**\n",
       "    *   Essential for pre-surgical planning, provides detailed 3D visualization of HO extent and relationship to surrounding structures (vessels, nerves).\n",
       "    *   CT angiography with contrast enhancement is the reference examination for pre-operative work-up.\n",
       "*   **Step 5: Magnetic Resonance Imaging (MRI):**\n",
       "    *   Useful for early diagnosis (detects changes 1-2 days after symptom onset) and assessing soft tissue involvement.\n",
       "    *   Can show \"striated pattern\" or \"checkerboard pattern\" indicative of early HO.\n",
       "    *   MRI with Zero Echo Time (ZTE) and TRICKS sequences can evaluate vessels and nerves, especially useful for hip NHO.\n",
       "    *   Higher cost and lower specificity than bone scan for early diagnosis.\n",
       "\n",
       "**Proposed Screening Protocol for Hungarian Inpatient Neurorehabilitation Centers:**\n",
       "\n",
       "1.  **Risk Stratification on Admission:** Identify high-risk patients based on neurological injury severity, polytrauma, prolonged immobilization, spasticity, and other risk factors (Section 2.3).\n",
       "2.  **Routine Clinical Monitoring:** Incorporate regular joint assessments (ROM, pain, swelling, warmth) into daily inpatient care protocols, especially for high-risk patients.\n",
       "3.  **Clinical Suspicion Trigger:** If clinical signs and symptoms of NHO are present:\n",
       "    *   **Initial Imaging:** Order bedside ultrasound as the first-line imaging modality.\n",
       "    *   **Biomarker Assessment:** Consider measuring serum ALP and CRP levels.\n",
       "4.  **Confirmatory Imaging (if US is positive or inconclusive and clinical suspicion persists):**\n",
       "    *   Order three-phase bone scan for early confirmation of HO activity.\n",
       "    *   Order plain radiographs to document baseline and monitor progression (especially after 3-6 weeks).\n",
       "    *   Consider CT or MRI, particularly for pre-surgical planning and detailed anatomical assessment.\n",
       "5.  **Documentation and Follow-up:** Document all findings, monitor progression, and adjust management plan accordingly.\n",
       "\n",
       "**4. Recommended Medical Management Strategies**\n",
       "\n",
       "**4.1. Prophylaxis (High-Risk Patients, Early Post-Injury, within 3 weeks):**\n",
       "\n",
       "*   **Nonsteroidal Anti-inflammatory Drugs (NSAIDs):**\n",
       "    *   **Indomethacin:** Gold standard for prophylaxis. Dose: 25mg standard release three times daily or 75mg long-acting daily for 3-6 weeks. Consider for at least 15 days.\n",
       "    *   **Rationale:** Inhibits cyclooxygenase (COX), reducing prostaglandin E2 production, which is crucial for osteoblast differentiation.\n",
       "    *   **Evidence:** Level 1 evidence for efficacy in preventing HO post-SCI.\n",
       "    *   **Considerations:**\n",
       "        *   GI side effects (gastritis, bleeding), renal dysfunction, potential to delay fracture healing, especially in polytrauma patients. Consider gastroprotection.\n",
       "        *   Contraindicated in patients with active peptic ulcer disease, bleeding disorders, renal insufficiency, and Cerebral Amyloid Angiopathy (CAA).\n",
       "        *   Monitor renal function and GI symptoms.\n",
       "        *   Use with caution in patients with TBI as some data suggest potential to worsen outcomes.\n",
       "        *   Celecoxib (selective COX-2 inhibitor) may be an alternative with fewer GI side effects, but less evidence in neurogenic HO.\n",
       "*   **Bisphosphonates (Etidronate Disodium):**\n",
       "    *   **Dose:** 20mg/kg/day for two weeks followed by 10mg/kg/day for ten additional weeks or 300mg twice daily for 6 months (various regimens reported).\n",
       "    *   **Rationale:** Inhibits hydroxyapatite crystal formation and mineralization of osteoid, delaying mineralization of osteoid and reducing bone resorption.\n",
       "    *   **Evidence:** May decrease HO development if initiated early (within a week of injury and before radiographic evidence), Level 2 evidence for efficacy in TBI.\n",
       "    *   **Considerations:**\n",
       "        *   Less effective once bone mineralization has occurred.\n",
       "        *   Potential side effects: increased serum phosphate, abdominal distress, nausea, vomiting, diarrhea, may delay fracture healing, osteomalacia with long-term use.\n",
       "        *   Monitor serum phosphate levels.\n",
       "*   **Pulse Low-Intensity Electromagnetic Field Therapy (PLIMF):**\n",
       "    *   **Therapy Characteristics:** Induction of 10 mT, frequency of 25 Hz and duration of 30 min, given for 4 weeks.\n",
       "    *   **Rationale:** May increase blood flow and oxygenation, potentially removing neurogenic stimulus for HO formation.\n",
       "    *   **Evidence:** Level 1 evidence from a single RCT supports prophylactic use in SCI.\n",
       "    *   **Considerations:** Further research needed to fully understand role, availability in Hungary may be limited.\n",
       "*   **Warfarin (Observational, low evidence):**\n",
       "    *   Considered in patients requiring anticoagulation for other indications (e.g., DVT prophylaxis).\n",
       "    *   **Rationale:** Vitamin K inhibitor, may inhibit bone matrix formation.\n",
       "    *   **Evidence:** Level 5 evidence (observational study) suggests potential preventive association.\n",
       "    *   **Considerations:** Hemorrhage risk outweighs potential HO prevention benefit as primary prophylaxis.\n",
       "\n",
       "**4.2. Treatment of Established NHO (Once Clinically or Radiographically Confirmed):**\n",
       "\n",
       "*   **Nonsteroidal Anti-inflammatory Drugs (NSAIDs):**\n",
       "    *   **Indomethacin:** Can be used for analgesia and to reduce inflammation in established HO.\n",
       "    *   **Rationale:** Symptomatic relief, anti-inflammatory action.\n",
       "    *   **Evidence:** Limited evidence to reverse established HO, primarily for symptom control.\n",
       "    *   **Considerations:** As above for prophylaxis.\n",
       "*   **Bisphosphonates (Etidronate Disodium, Pamidronate):**\n",
       "    *   **Etidronate:** May halt progression of HO, especially if initiated early (within 3-6 weeks of symptom onset).\n",
       "    *   **Pamidronate:** Newer nitrogen-containing bisphosphonates may be more potent than etidronate, but limited data in neurogenic HO.\n",
       "    *   **Rationale:** Inhibit bone resorption and mineralization, may slow down HO progression.\n",
       "    *   **Evidence:** Level 2 evidence for etidronate to halt progression of HO.\n",
       "    *   **Considerations:** Less effective once mineralization is advanced.\n",
       "*   **Radiation Therapy (RT):**\n",
       "    *   **Dose:** 20 Gy in 2 Gy fractions (example protocol). Single dose radiation also reported effective.\n",
       "    *   **Rationale:** Inactivates pluripotent osteoprogenitor cells, prevents differentiation of mesenchymal progenitor cells into osteoblasts.\n",
       "    *   **Evidence:** Effective in halting progression of early-stage NHO, may reduce pain and improve ROM in established HO.\n",
       "    *   **Considerations:**\n",
       "        *   More costly than NSAIDs.\n",
       "        *   Potential side effects: delayed wound healing, potential to delay bone fracture healing, long-term side effects not well understood, contradictory findings in some studies (increased HO).\n",
       "        *   Consider for patients with established HO not responding to conservative management, or as secondary prophylaxis after surgical excision.\n",
       "*   **Corticosteroids (Limited Role):**\n",
       "    *   Not recommended for routine NHO management.\n",
       "    *   Considered for short-term use to reduce inflammation and edema in specific situations, similar to their use in FOP flare-ups, but not for chronic treatment due to side effects.\n",
       "\n",
       "**5. Recommended Rehabilitation Interventions**\n",
       "\n",
       "*   **Early and Gentle Range of Motion (ROM) Exercises:**\n",
       "    *   Crucial for maintaining joint mobility and preventing contractures.\n",
       "    *   Perform active-assisted or passive ROM exercises within pain-free limits.\n",
       "    *   Avoid forceful or aggressive passive movements, especially in early stages or during acute inflammation, as it can exacerbate HO and cause microtrauma.\n",
       "    *   Gentle mobilization can be initiated 1 week after surgical excision.\n",
       "*   **Spasticity Management:**\n",
       "    *   Aggressive and proactive management of spasticity is essential, as spasticity is a major risk factor for HO.\n",
       "    *   Utilize a multimodal approach:\n",
       "        *   Pharmacological: Oral medications (baclofen, tizanidine), botulinum toxin injections, intrathecal baclofen.\n",
       "        *   Non-Pharmacological: Physical therapy, stretching, positioning, serial casting.\n",
       "*   **Positioning and Splinting:**\n",
       "    *   Implement meticulous positioning strategies to prevent contractures and maintain optimal joint alignment.\n",
       "    *   Use splints (e.g., night splints in elbow extension) to preserve range of motion, especially after surgical excision.\n",
       "*   **Pain Management:**\n",
       "    *   Address pain effectively using pharmacological and non-pharmacological approaches.\n",
       "    *   Pain management is crucial to facilitate participation in rehabilitation and improve quality of life.\n",
       "*   **Functional Training:**\n",
       "    *   Adapt functional training programs to accommodate ROM limitations due to NHO.\n",
       "    *   Focus on maximizing independence in ADLs and mobility within the patient's functional capacity.\n",
       "\n",
       "**6. Surgical Guidelines and Indications**\n",
       "\n",
       "**6.1. Indications for Surgical Excision:**\n",
       "\n",
       "*   **Functional Limitation:** Significant functional impairment due to HO, limiting mobility, transfers, hygiene, and ADLs.\n",
       "*   **Pain:** Intractable pain that cannot be alleviated by conservative measures.\n",
       "*   **Neurovascular Compression:** Compression of nerves or blood vessels causing pain, neurological deficits, or vascular compromise.\n",
       "*   **Pressure Ulcers:** Amelioration of bedsores caused or exacerbated by HO.\n",
       "*   **Joint Ankylosis:** Complete or near-complete joint ankylosis due to HO.\n",
       "\n",
       "**6.2. Timing of Surgical Excision:**\n",
       "\n",
       "*   **Maturity of HO:** Ideally, surgery should be delayed until HO has matured and inflammation has subsided, typically 6-18 months after HO initiation.\n",
       "*   **Clinical Necessity:** In some cases, earlier surgical intervention may be necessary if HO is causing severe functional limitations or neurovascular compression, even if not fully mature.\n",
       "*   **Assessment of Maturity:**\n",
       "    *   Clinical judgment: Reduced pain and inflammation.\n",
       "    *   Radiographs: Stable neocortex on serial radiographs.\n",
       "    *   Bone Scan: Serial Technetium 99 bone scans to assess for decreased activity.\n",
       "    *   Serum Alkaline Phosphatase (ALP): Baseline values of ALP should be considered preoperatively.\n",
       "\n",
       "**6.3. Surgical Technique and Pre-operative Planning:**\n",
       "\n",
       "*   **Multidisciplinary Decision:** Surgical decision should be made collegially, involving the patient, PM&R physician, orthopedic surgeon, and other relevant specialists. Functional contract specifying expected functional gain should be formulated.\n",
       "*   **Preoperative Imaging:** Contrast-enhanced 3D CT angiography is essential for surgical planning to visualize the extent of HO and its relationship to neurovascular structures. Consider MRI with ZTE and TRICKS sequences for hip NHO.\n",
       "*   **Surgical Approach:** Direct approach towards the lesion, utilizing existing incisions if possible. Functional resection is preferable, removing only the part of HO that limits joint motion, respecting implantation bases to avoid iatrogenic fracture.\n",
       "*   **Embolization:** Consider preoperative embolization of the feeding artery to reduce intraoperative bleeding risk.\n",
       "\n",
       "**6.4. Postoperative Management:**\n",
       "\n",
       "*   **Prophylaxis against Recurrence:**\n",
       "    *   NSAIDs (Indomethacin): Postoperative administration for at least 1 week, up to 6 weeks.\n",
       "    *   Radiotherapy: Consider single-dose or fractionated radiotherapy postoperatively, especially in high-risk patients or medullary lesion, although may increase infection risk in medullary lesion.\n",
       "    *   Bisphosphonates: Consider postoperative bisphosphonate treatment, although evidence is limited.\n",
       "*   **Rehabilitation:**\n",
       "    *   Early and aggressive postoperative rehabilitation is crucial.\n",
       "    *   Continuous Passive Motion (CPM) machines may be beneficial.\n",
       "    *   Gentle range of motion exercises should be initiated within pain-free limits, starting approximately 1 week post-surgery.\n",
       "*   **Infection Control:** Strict adherence to infection control protocols is paramount due to increased infection risk, especially with combined surgery and radiation.\n",
       "\n",
       "**7. Prognostic Factors, Functional Outcomes, and Long-Term Follow-Up**\n",
       "\n",
       "**7.1. Prognostic Factors:**\n",
       "\n",
       "*   **Severity of Initial Injury:** More severe neurological injuries (TBI, SCI) are associated with higher risk and potentially poorer outcomes.\n",
       "*   **Polytrauma:** Presence of polytrauma increases risk and complexity of management.\n",
       "*   **Spasticity:** Severe spasticity is a strong risk factor for both HO development and recurrence.\n",
       "*   **Timing of Intervention:** Early diagnosis and intervention (prophylaxis and treatment) are associated with better outcomes. Delayed surgical resection may lead to less functional improvement.\n",
       "*   **Completeness of Resection:** Incomplete surgical resection increases recurrence risk.\n",
       "*   **Cognitive Impairment:** Severe cognitive impairment may be associated with poorer functional outcomes and increased recurrence risk.\n",
       "\n",
       "**7.2. Functional Outcomes:**\n",
       "\n",
       "*   **Primary Goal:** Improve range of motion, reduce pain, enhance functional mobility, and improve quality of life.\n",
       "*   **Expected Gains:** Surgical excision can effectively increase ROM, improve function, and reduce pain.\n",
       "*   **Potential Limitations:** Functional improvement may be limited in patients with severe neurological deficits or significant pre-existing functional impairments.\n",
       "\n",
       "**7.3. Long-Term Follow-Up:**\n",
       "\n",
       "*   **Recurrence Monitoring:** Regular clinical assessments and imaging (radiographs) to monitor for HO recurrence, especially after surgical excision. Recurrence rates reported up to 30% or higher.\n",
       "*   **Functional Assessment:** Periodic functional assessments to track progress and address any ongoing functional limitations.\n",
       "*   **Biomarker Monitoring (Optional):** Consider periodic serum ALP level monitoring.\n",
       "*   **Duration:** Long-term follow-up is recommended for at least 12-18 months post-injury, and potentially longer, given the risk of recurrence and long-term functional implications.\n",
       "\n",
       "**8. Clinical Algorithms and Step-by-Step Approaches**\n",
       "\n",
       "**(Proposed Clinical Algorithm for NHO Management in Hungarian Inpatient Neurorehabilitation Centers)**\n",
       "\n",
       "**Step 1: Risk Stratification and Early Recognition (Admission and Throughout Inpatient Stay)**\n",
       "\n",
       "*   Identify high-risk patients (TBI/SCI with risk factors - Section 2.3).\n",
       "*   Implement routine clinical monitoring for early signs of NHO (Section 3.1).\n",
       "\n",
       "**Step 2: Diagnostic Workup (If Clinical Suspicion Arises)**\n",
       "\n",
       "*   **Initial Imaging:** Bedside Ultrasound (US).\n",
       "*   **Biomarkers:** Serum ALP and CRP levels.\n",
       "*   **Confirmatory Imaging (If US positive/inconclusive):** Three-phase bone scan, plain radiographs, CT/MRI as needed.\n",
       "\n",
       "**Step 3: Medical Management**\n",
       "\n",
       "*   **Prophylaxis (High-Risk Patients, Early Post-Injury):** NSAIDs (Indomethacin) +/- PLIMF (if available).\n",
       "*   **Treatment (Established NHO):** NSAIDs (Indomethacin) for symptom control, consider Bisphosphonates (Etidronate) in early stages, consider Radiation Therapy for established HO or post-surgical recurrence prevention.\n",
       "\n",
       "**Step 4: Rehabilitation Interventions (Throughout Inpatient Stay)**\n",
       "\n",
       "*   Gentle ROM exercises within pain-free limits.\n",
       "*   Aggressive Spasticity Management.\n",
       "*   Positioning and Splinting.\n",
       "*   Pain Management.\n",
       "*   Functional Training.\n",
       "\n",
       "**Step 5: Surgical Referral and Management (If Conservative Measures Fail)**\n",
       "\n",
       "*   Refer to orthopedic surgeon experienced in HO excision.\n",
       "*   Pre-operative planning with CT angiography/MRI.\n",
       "*   Surgical excision after HO maturation.\n",
       "*   Post-operative prophylaxis (NSAIDs, +/- Radiotherapy).\n",
       "*   Aggressive Post-operative Rehabilitation.\n",
       "\n",
       "**Step 6: Long-Term Follow-Up (Outpatient Setting)**\n",
       "\n",
       "*   Regular clinical assessments and imaging for recurrence monitoring.\n",
       "*   Ongoing rehabilitation to maximize function.\n",
       "\n",
       "**Step 7: Patient and Family Education (Throughout Care)**\n",
       "\n",
       "*   Educate about NHO risk factors, signs, management, and importance of adherence to treatment plan.\n",
       "\n",
       "**9. Novel or Emerging Therapies**\n",
       "\n",
       "*   **Targeting OSM Signaling:** Inhibition of Oncostatin M (OSM) signaling.\n",
       "*   **Substance P (SP) Antagonism:** Targeting Substance P and its receptor NK1r.\n",
       "*   **RAR-γ Agonists (Palovarotene):** Retinoic acid receptor-gamma agonists show promise in preventing HO progression.\n",
       "*   **HIF-1α Inhibition:** Pharmacological inhibition of HIF-1α.\n",
       "*   **BMP Inhibitors:** Noggin, BMP receptor inhibitors.\n",
       "*   **Free Radical Scavengers:** Allopurinol, N-acetylcysteine.\n",
       "*   **Imatinib (PDGF inhibitor):** Imatinib also blocks HIF1a and affects HO progression.\n",
       "*   **MicroRNAs (miRNA) modulation:** Targeting osteo-suppressive miRNAs.\n",
       "*   **Raman Spectroscopy:** Emerging diagnostic tool for early detection.\n",
       "\n",
       "These novel therapies are primarily in preclinical or early clinical trial stages and are not yet standard clinical practice, but represent potential future directions for NHO management. PM&R specialists in Hungary should stay updated on emerging research in this area.\n",
       "\n",
       "**10. Practical Inpatient Care Considerations for PM&R Specialists in Hungary**\n",
       "\n",
       "*   **Resource-Aware Approach:** Utilize bedside ultrasound as a cost-effective and readily available early diagnostic tool. Prioritize plain radiography for initial imaging. Reserve bone scans and advanced imaging (CT/MRI) for specific indications.\n",
       "*   **Medication Availability and Cost-Effectiveness:** Consider the availability and cost of NSAIDs (Indomethacin, Celecoxib), Bisphosphonates (Etidronate, Pamidronate), and emerging therapies within the Hungarian healthcare system and reimbursement framework. Prioritize cost-effective NSAID prophylaxis for high-risk patients.\n",
       "*   **Multidisciplinary Collaboration:** Establish strong collaboration with orthopedic surgeons, radiologists, and rehabilitation therapists to ensure seamless patient care.\n",
       "*   **Patient Education in Hungarian Language:** Develop patient education materials in Hungarian language to facilitate patient and family understanding and adherence to treatment plans.\n",
       "*   **Focus on Prevention and Early Intervention:** Emphasize early recognition, risk factor management (spasticity, pressure ulcers), and prophylactic strategies (NSAIDs, gentle ROM) to minimize NHO development and its impact on functional outcomes.\n",
       "*   **Tailored Rehabilitation Programs:** Design individualized rehabilitation programs that address the specific functional limitations imposed by NHO, focusing on gentle ROM, spasticity management, and functional training within pain-free limits.\n",
       "*   **Access to Radiotherapy and Surgical Expertise:** Understand referral pathways for radiotherapy and surgical consultation within the Hungarian healthcare system.\n",
       "\n",
       "This comprehensive guideline is intended to provide PM&R specialists in Hungarian neurorehabilitation centers with a robust framework for managing NHO, incorporating the latest evidence and practical considerations for inpatient care. Continuous professional development and staying updated with emerging research are crucial for optimizing patient outcomes in this challenging condition."
      ],
      "text/plain": [
       "<IPython.core.display.Markdown object>"
      ]
     },
     "execution_count": 38,
     "metadata": {},
     "output_type": "execute_result"
    }
   ],
   "source": [
    "Markdown(response.text)"
   ]
  }
 ],
 "metadata": {
  "kernelspec": {
   "display_name": "medi_guideline",
   "language": "python",
   "name": "medical_guideline"
  },
  "language_info": {
   "codemirror_mode": {
    "name": "ipython",
    "version": 3
   },
   "file_extension": ".py",
   "mimetype": "text/x-python",
   "name": "python",
   "nbconvert_exporter": "python",
   "pygments_lexer": "ipython3",
   "version": "3.10.0"
  },
  "toc": {
   "base_numbering": 1,
   "nav_menu": {},
   "number_sections": false,
   "sideBar": true,
   "skip_h1_title": true,
   "title_cell": "Table of Contents",
   "title_sidebar": "Contents",
   "toc_cell": false,
   "toc_position": {
    "height": "calc(100% - 180px)",
    "left": "10px",
    "top": "150px",
    "width": "229.6px"
   },
   "toc_section_display": true,
   "toc_window_display": true
  }
 },
 "nbformat": 4,
 "nbformat_minor": 5
}
